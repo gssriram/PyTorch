{
  "nbformat": 4,
  "nbformat_minor": 0,
  "metadata": {
    "colab": {
      "provenance": []
    },
    "kernelspec": {
      "name": "python3",
      "display_name": "Python 3"
    },
    "language_info": {
      "name": "python"
    }
  },
  "cells": [
    {
      "cell_type": "markdown",
      "source": [
        "## **Importing Libraries**"
      ],
      "metadata": {
        "id": "JqFBOkzHCYlF"
      }
    },
    {
      "cell_type": "code",
      "execution_count": null,
      "metadata": {
        "id": "8tXVwdp85MR4"
      },
      "outputs": [],
      "source": [
        "import torch\n",
        "import numpy as np"
      ]
    },
    {
      "cell_type": "markdown",
      "source": [
        "# **Basics of Tensors**"
      ],
      "metadata": {
        "id": "EPDPIiuuFd-r"
      }
    },
    {
      "cell_type": "markdown",
      "source": [
        "Creating tensor from numpy array using 'from_numpy' or 'as_tensor' method"
      ],
      "metadata": {
        "id": "g1Xgf75EDBos"
      }
    },
    {
      "cell_type": "code",
      "source": [
        "arr = np.array([5,8,2,10,574,8])\n",
        "type(arr)"
      ],
      "metadata": {
        "colab": {
          "base_uri": "https://localhost:8080/"
        },
        "id": "V07JmjRd5f5O",
        "outputId": "d583f1ad-81db-4b6a-de32-5126d1058d65"
      },
      "execution_count": null,
      "outputs": [
        {
          "output_type": "execute_result",
          "data": {
            "text/plain": [
              "numpy.ndarray"
            ]
          },
          "metadata": {},
          "execution_count": 2
        }
      ]
    },
    {
      "cell_type": "code",
      "source": [
        "# Creating tensor from numpy array using 'from_numpy' or 'as_tensor' method\n",
        "t1 = torch.from_numpy(arr)\n",
        "t1"
      ],
      "metadata": {
        "colab": {
          "base_uri": "https://localhost:8080/"
        },
        "id": "BaAV5XYL5oaj",
        "outputId": "45228d58-13ff-4596-e0ba-d7f055900c07"
      },
      "execution_count": null,
      "outputs": [
        {
          "output_type": "execute_result",
          "data": {
            "text/plain": [
              "tensor([  5,   8,   2,  10, 574,   8])"
            ]
          },
          "metadata": {},
          "execution_count": 3
        }
      ]
    },
    {
      "cell_type": "code",
      "source": [
        "len(t1)"
      ],
      "metadata": {
        "colab": {
          "base_uri": "https://localhost:8080/"
        },
        "id": "SCpxn31WJhgh",
        "outputId": "3bf20389-01ab-4a79-9ce9-3c5402f8f29e"
      },
      "execution_count": null,
      "outputs": [
        {
          "output_type": "execute_result",
          "data": {
            "text/plain": [
              "6"
            ]
          },
          "metadata": {},
          "execution_count": 4
        }
      ]
    },
    {
      "cell_type": "code",
      "source": [
        "torch.as_tensor(arr)"
      ],
      "metadata": {
        "colab": {
          "base_uri": "https://localhost:8080/"
        },
        "id": "-vbw9aY257ko",
        "outputId": "95262902-7e26-4ed5-e5e4-f06c336a0d3b"
      },
      "execution_count": null,
      "outputs": [
        {
          "output_type": "execute_result",
          "data": {
            "text/plain": [
              "tensor([  5,   8,   2,  10, 574,   8])"
            ]
          },
          "metadata": {},
          "execution_count": 5
        }
      ]
    },
    {
      "cell_type": "markdown",
      "source": [
        "'from_numpy' & 'as_tensor' methods share the same memory of the numpy array from which tensor has been created.So if any change is being done to the numpy array, it would reflect in the tensors too."
      ],
      "metadata": {
        "id": "Z1OFD1-IDRkl"
      }
    },
    {
      "cell_type": "code",
      "source": [
        "# 'from_numpy' & 'as_tensor' methods share the same memory of the numpy array from which tensor has been created.\n",
        "# So if any change is being done to the numpy array, it would reflect in the tensors too.\n",
        "arr[2]=158\n",
        "arr"
      ],
      "metadata": {
        "colab": {
          "base_uri": "https://localhost:8080/"
        },
        "id": "_BT7emh36ZnK",
        "outputId": "c89eb8a4-7884-406a-8a3d-6975dc439243"
      },
      "execution_count": null,
      "outputs": [
        {
          "output_type": "execute_result",
          "data": {
            "text/plain": [
              "array([  5,   8, 158,  10, 574,   8])"
            ]
          },
          "metadata": {},
          "execution_count": 6
        }
      ]
    },
    {
      "cell_type": "code",
      "source": [
        "t1"
      ],
      "metadata": {
        "colab": {
          "base_uri": "https://localhost:8080/"
        },
        "id": "3L22iW0862Ct",
        "outputId": "2b6167db-412a-4825-84a0-bc9817940e42"
      },
      "execution_count": null,
      "outputs": [
        {
          "output_type": "execute_result",
          "data": {
            "text/plain": [
              "tensor([  5,   8, 158,  10, 574,   8])"
            ]
          },
          "metadata": {},
          "execution_count": 7
        }
      ]
    },
    {
      "cell_type": "markdown",
      "source": [
        "In order to avoid this, and to make a permanent copy of tensor, 'tensor' method can be used."
      ],
      "metadata": {
        "id": "W0xn5I7PDXw1"
      }
    },
    {
      "cell_type": "code",
      "source": [
        "# In order to avoid this, and to make a permanent copy of tensor, 'tensor' method can be used.\n",
        "t2 = torch.tensor(arr)\n",
        "t2"
      ],
      "metadata": {
        "colab": {
          "base_uri": "https://localhost:8080/"
        },
        "id": "jXQGfEcL63Rm",
        "outputId": "8a0616ec-39bf-4640-f14f-95aea270b992"
      },
      "execution_count": null,
      "outputs": [
        {
          "output_type": "execute_result",
          "data": {
            "text/plain": [
              "tensor([  5,   8, 158,  10, 574,   8])"
            ]
          },
          "metadata": {},
          "execution_count": 8
        }
      ]
    },
    {
      "cell_type": "code",
      "source": [
        "arr[1] = 100\n",
        "arr"
      ],
      "metadata": {
        "colab": {
          "base_uri": "https://localhost:8080/"
        },
        "id": "PBX2c-1Y7DF1",
        "outputId": "c8d0a79e-22b1-4987-a798-bfb9af6aa1cc"
      },
      "execution_count": null,
      "outputs": [
        {
          "output_type": "execute_result",
          "data": {
            "text/plain": [
              "array([  5, 100, 158,  10, 574,   8])"
            ]
          },
          "metadata": {},
          "execution_count": 9
        }
      ]
    },
    {
      "cell_type": "code",
      "source": [
        "t1, t2"
      ],
      "metadata": {
        "colab": {
          "base_uri": "https://localhost:8080/"
        },
        "id": "UyrtwW3H7Goa",
        "outputId": "1cfe21c5-ea86-480c-9637-97aedb417bb9"
      },
      "execution_count": null,
      "outputs": [
        {
          "output_type": "execute_result",
          "data": {
            "text/plain": [
              "(tensor([  5, 100, 158,  10, 574,   8]),\n",
              " tensor([  5,   8, 158,  10, 574,   8]))"
            ]
          },
          "metadata": {},
          "execution_count": 10
        }
      ]
    },
    {
      "cell_type": "markdown",
      "source": [
        "'torch.Tensor' would result in float dtype, whereas 'torch.tensor' would retain the original dtype."
      ],
      "metadata": {
        "id": "1kc3gBbsDkgZ"
      }
    },
    {
      "cell_type": "code",
      "source": [
        "# 'torch.Tensor' would result in float dtype, whereas 'torch.tensor' would retain the original dtype.\n",
        "t3 = torch.Tensor(arr)\n",
        "t2.dtype, t3.dtype"
      ],
      "metadata": {
        "colab": {
          "base_uri": "https://localhost:8080/"
        },
        "id": "Oju5RH8d7IT4",
        "outputId": "163c004d-5f16-4a3b-884b-ac4b616fce06"
      },
      "execution_count": null,
      "outputs": [
        {
          "output_type": "execute_result",
          "data": {
            "text/plain": [
              "(torch.int64, torch.float32)"
            ]
          },
          "metadata": {},
          "execution_count": 11
        }
      ]
    },
    {
      "cell_type": "markdown",
      "source": [
        "Creating zero tensors"
      ],
      "metadata": {
        "id": "m7hrjaIpDn2g"
      }
    },
    {
      "cell_type": "code",
      "source": [
        "# creating zero tensors\n",
        "torch.zeros(5,2, dtype=torch.int64)"
      ],
      "metadata": {
        "colab": {
          "base_uri": "https://localhost:8080/"
        },
        "id": "41-T1IZ3772Q",
        "outputId": "2061583e-ffbe-4cdd-b7b0-4832220b1188"
      },
      "execution_count": null,
      "outputs": [
        {
          "output_type": "execute_result",
          "data": {
            "text/plain": [
              "tensor([[0, 0],\n",
              "        [0, 0],\n",
              "        [0, 0],\n",
              "        [0, 0],\n",
              "        [0, 0]])"
            ]
          },
          "metadata": {},
          "execution_count": 12
        }
      ]
    },
    {
      "cell_type": "markdown",
      "source": [
        "Creating unit tensors"
      ],
      "metadata": {
        "id": "Pe6m1Ow4DtIo"
      }
    },
    {
      "cell_type": "code",
      "source": [
        "# creating unit tensors\n",
        "torch.ones(3,2, dtype=torch.int32)"
      ],
      "metadata": {
        "colab": {
          "base_uri": "https://localhost:8080/"
        },
        "id": "QCYlEgf98WoK",
        "outputId": "af630371-c36e-4a45-abb7-8f3884e5f7bc"
      },
      "execution_count": null,
      "outputs": [
        {
          "output_type": "execute_result",
          "data": {
            "text/plain": [
              "tensor([[1, 1],\n",
              "        [1, 1],\n",
              "        [1, 1]], dtype=torch.int32)"
            ]
          },
          "metadata": {},
          "execution_count": 13
        }
      ]
    },
    {
      "cell_type": "markdown",
      "source": [
        "Creating arange value tensors"
      ],
      "metadata": {
        "id": "x9I8LQWdDvo1"
      }
    },
    {
      "cell_type": "code",
      "source": [
        "# creating arange value tensors\n",
        "torch.arange(0,20,2)"
      ],
      "metadata": {
        "colab": {
          "base_uri": "https://localhost:8080/"
        },
        "id": "YkNbhgK48utL",
        "outputId": "d756ec06-deb4-4f14-fabb-a0239f129cde"
      },
      "execution_count": null,
      "outputs": [
        {
          "output_type": "execute_result",
          "data": {
            "text/plain": [
              "tensor([ 0,  2,  4,  6,  8, 10, 12, 14, 16, 18])"
            ]
          },
          "metadata": {},
          "execution_count": 14
        }
      ]
    },
    {
      "cell_type": "code",
      "source": [
        "torch.arange(0,20,2).reshape(5,2)"
      ],
      "metadata": {
        "colab": {
          "base_uri": "https://localhost:8080/"
        },
        "id": "PS7ESBMY83ru",
        "outputId": "b3949fca-8a77-430d-813a-b1c358cb3bab"
      },
      "execution_count": null,
      "outputs": [
        {
          "output_type": "execute_result",
          "data": {
            "text/plain": [
              "tensor([[ 0,  2],\n",
              "        [ 4,  6],\n",
              "        [ 8, 10],\n",
              "        [12, 14],\n",
              "        [16, 18]])"
            ]
          },
          "metadata": {},
          "execution_count": 15
        }
      ]
    },
    {
      "cell_type": "markdown",
      "source": [
        "Creating linspace tensors"
      ],
      "metadata": {
        "id": "biDRvdIJDyeC"
      }
    },
    {
      "cell_type": "code",
      "source": [
        "# creating linspace tensors\n",
        "my_tensor = torch.linspace(0,20,15).reshape(3,5)\n",
        "my_tensor"
      ],
      "metadata": {
        "colab": {
          "base_uri": "https://localhost:8080/"
        },
        "id": "Ve_e46Kl894c",
        "outputId": "92ede849-a3da-4721-8a23-d15c8b1bd907"
      },
      "execution_count": null,
      "outputs": [
        {
          "output_type": "execute_result",
          "data": {
            "text/plain": [
              "tensor([[ 0.0000,  1.4286,  2.8571,  4.2857,  5.7143],\n",
              "        [ 7.1429,  8.5714, 10.0000, 11.4286, 12.8571],\n",
              "        [14.2857, 15.7143, 17.1429, 18.5714, 20.0000]])"
            ]
          },
          "metadata": {},
          "execution_count": 16
        }
      ]
    },
    {
      "cell_type": "code",
      "source": [
        "len(my_tensor)"
      ],
      "metadata": {
        "colab": {
          "base_uri": "https://localhost:8080/"
        },
        "id": "8-MjW85yJlq-",
        "outputId": "35007c1a-c4e6-4034-b1da-e20a727d5bf9"
      },
      "execution_count": null,
      "outputs": [
        {
          "output_type": "execute_result",
          "data": {
            "text/plain": [
              "3"
            ]
          },
          "metadata": {},
          "execution_count": 17
        }
      ]
    },
    {
      "cell_type": "markdown",
      "source": [
        "Changing the data type of tensors"
      ],
      "metadata": {
        "id": "cSVy1ynwD0sr"
      }
    },
    {
      "cell_type": "code",
      "source": [
        "# changing the data type of tensors\n",
        "my_tensor.dtype"
      ],
      "metadata": {
        "colab": {
          "base_uri": "https://localhost:8080/"
        },
        "id": "00mXOE5X9Nzh",
        "outputId": "543171d3-8d44-4cfa-a412-9b37ed6b8c53"
      },
      "execution_count": null,
      "outputs": [
        {
          "output_type": "execute_result",
          "data": {
            "text/plain": [
              "torch.float32"
            ]
          },
          "metadata": {},
          "execution_count": 18
        }
      ]
    },
    {
      "cell_type": "code",
      "source": [
        "changed_tensor = my_tensor.type(torch.int32)\n",
        "changed_tensor"
      ],
      "metadata": {
        "colab": {
          "base_uri": "https://localhost:8080/"
        },
        "id": "nB-W73p89rFF",
        "outputId": "c35e2964-31de-4c18-de93-bfd775c47261"
      },
      "execution_count": null,
      "outputs": [
        {
          "output_type": "execute_result",
          "data": {
            "text/plain": [
              "tensor([[ 0,  1,  2,  4,  5],\n",
              "        [ 7,  8, 10, 11, 12],\n",
              "        [14, 15, 17, 18, 20]], dtype=torch.int32)"
            ]
          },
          "metadata": {},
          "execution_count": 19
        }
      ]
    },
    {
      "cell_type": "markdown",
      "source": [
        "Creating random tensor with uniform distribution of 0,1"
      ],
      "metadata": {
        "id": "A1BM4I8yD2tL"
      }
    },
    {
      "cell_type": "code",
      "source": [
        "# creating random tensor with uniform distribution of 0,1\n",
        "torch.rand(2,5)"
      ],
      "metadata": {
        "colab": {
          "base_uri": "https://localhost:8080/"
        },
        "id": "DIqVZGE798py",
        "outputId": "fd2855c8-fa61-4093-b243-1b4faa920cda"
      },
      "execution_count": null,
      "outputs": [
        {
          "output_type": "execute_result",
          "data": {
            "text/plain": [
              "tensor([[0.9293, 0.0119, 0.0819, 0.4405, 0.9886],\n",
              "        [0.0388, 0.2862, 0.9650, 0.3732, 0.4460]])"
            ]
          },
          "metadata": {},
          "execution_count": 20
        }
      ]
    },
    {
      "cell_type": "markdown",
      "source": [
        "Creating random tensor with a normal distribution (mean=0, std_dev=1)"
      ],
      "metadata": {
        "id": "cZWVswPJD4Wl"
      }
    },
    {
      "cell_type": "code",
      "source": [
        "# creating random tensor with a normal distribution (mean=0, std_dev=1)\n",
        "torch.randn(3,3)"
      ],
      "metadata": {
        "colab": {
          "base_uri": "https://localhost:8080/"
        },
        "id": "oRgQABQKAMjV",
        "outputId": "805d7733-ed7e-4fd6-c2af-70ca3bce0fe8"
      },
      "execution_count": null,
      "outputs": [
        {
          "output_type": "execute_result",
          "data": {
            "text/plain": [
              "tensor([[-0.6926, -1.1617,  1.5422],\n",
              "        [ 1.0705,  0.1184, -1.0134],\n",
              "        [ 1.4150,  0.4125, -0.3817]])"
            ]
          },
          "metadata": {},
          "execution_count": 21
        }
      ]
    },
    {
      "cell_type": "markdown",
      "source": [
        "Creating random tensors with any upper & lower limits"
      ],
      "metadata": {
        "id": "6pPEMfFjD6X1"
      }
    },
    {
      "cell_type": "code",
      "source": [
        "# creating random tensors with any upper & lower limits\n",
        "torch.randint(low=0,high=15,size=(5,5)) # here, high value is excluded and low value is included"
      ],
      "metadata": {
        "colab": {
          "base_uri": "https://localhost:8080/"
        },
        "id": "D5OfYlPRAg48",
        "outputId": "45172aca-b98d-448d-f067-691298a678b3"
      },
      "execution_count": null,
      "outputs": [
        {
          "output_type": "execute_result",
          "data": {
            "text/plain": [
              "tensor([[ 2,  9, 12,  6,  0],\n",
              "        [11,  7,  0, 14, 13],\n",
              "        [ 4, 13, 13,  0,  5],\n",
              "        [ 9, 12,  0,  7, 11],\n",
              "        [ 7,  6,  8,  2,  7]])"
            ]
          },
          "metadata": {},
          "execution_count": 22
        }
      ]
    },
    {
      "cell_type": "markdown",
      "source": [
        "Creating a random tensor like the shape of another tensor"
      ],
      "metadata": {
        "id": "9ZjKpN6BD864"
      }
    },
    {
      "cell_type": "code",
      "source": [
        "# creating a random tensor like the shape of another tensor\n",
        "a1 = torch.zeros(5,2)\n",
        "a1"
      ],
      "metadata": {
        "colab": {
          "base_uri": "https://localhost:8080/"
        },
        "id": "VemAODE1BDJ_",
        "outputId": "fbbdfaec-1055-45b3-e02a-a3b8be130405"
      },
      "execution_count": null,
      "outputs": [
        {
          "output_type": "execute_result",
          "data": {
            "text/plain": [
              "tensor([[0., 0.],\n",
              "        [0., 0.],\n",
              "        [0., 0.],\n",
              "        [0., 0.],\n",
              "        [0., 0.]])"
            ]
          },
          "metadata": {},
          "execution_count": 23
        }
      ]
    },
    {
      "cell_type": "code",
      "source": [
        "torch.randn_like(a1) #takes the shape of a1. Other available options are 'rand_like' etc."
      ],
      "metadata": {
        "colab": {
          "base_uri": "https://localhost:8080/"
        },
        "id": "dwubUivTBhx1",
        "outputId": "0728fd58-79c3-408d-83ff-bff38a3ae1ee"
      },
      "execution_count": null,
      "outputs": [
        {
          "output_type": "execute_result",
          "data": {
            "text/plain": [
              "tensor([[ 1.6389,  0.2560],\n",
              "        [ 0.1239, -1.2916],\n",
              "        [ 1.4073, -1.4173],\n",
              "        [ 1.0776,  0.3770],\n",
              "        [ 0.2266, -0.0541]])"
            ]
          },
          "metadata": {},
          "execution_count": 24
        }
      ]
    },
    {
      "cell_type": "markdown",
      "source": [
        "Setting the seed value of generating random tensors"
      ],
      "metadata": {
        "id": "f3CZzmjAEHbZ"
      }
    },
    {
      "cell_type": "code",
      "source": [
        "# setting the seed value of generating random tensors\n",
        "torch.manual_seed(32)"
      ],
      "metadata": {
        "colab": {
          "base_uri": "https://localhost:8080/"
        },
        "id": "lOhnEYLbBnKQ",
        "outputId": "d621a42c-bb62-4635-bd24-c4fcde31b6d8"
      },
      "execution_count": null,
      "outputs": [
        {
          "output_type": "execute_result",
          "data": {
            "text/plain": [
              "<torch._C.Generator at 0x7f2e76633d90>"
            ]
          },
          "metadata": {},
          "execution_count": 25
        }
      ]
    },
    {
      "cell_type": "markdown",
      "source": [
        "## **Tensor Operations**"
      ],
      "metadata": {
        "id": "hQ4hrEZAE29P"
      }
    },
    {
      "cell_type": "code",
      "source": [
        "x1 = torch.arange(10).reshape(2,5)\n",
        "x1"
      ],
      "metadata": {
        "colab": {
          "base_uri": "https://localhost:8080/"
        },
        "id": "kmqo3ULuCBX7",
        "outputId": "3abd01b4-dd07-48e6-891b-4a61c8e93b0d"
      },
      "execution_count": null,
      "outputs": [
        {
          "output_type": "execute_result",
          "data": {
            "text/plain": [
              "tensor([[0, 1, 2, 3, 4],\n",
              "        [5, 6, 7, 8, 9]])"
            ]
          },
          "metadata": {},
          "execution_count": 26
        }
      ]
    },
    {
      "cell_type": "markdown",
      "source": [
        "Indexing of tensors"
      ],
      "metadata": {
        "id": "7EJDCniaGFEw"
      }
    },
    {
      "cell_type": "code",
      "source": [
        "x1[0,3] #returns as tensor"
      ],
      "metadata": {
        "colab": {
          "base_uri": "https://localhost:8080/"
        },
        "id": "Ch7HGwXeF9Ou",
        "outputId": "1789917d-2dfa-406c-8b9e-d015fc807b62"
      },
      "execution_count": null,
      "outputs": [
        {
          "output_type": "execute_result",
          "data": {
            "text/plain": [
              "tensor(3)"
            ]
          },
          "metadata": {},
          "execution_count": 27
        }
      ]
    },
    {
      "cell_type": "code",
      "source": [
        "x1[:,2] # returns the 3rd column"
      ],
      "metadata": {
        "colab": {
          "base_uri": "https://localhost:8080/"
        },
        "id": "X7FQyPL_GMGF",
        "outputId": "f920e7bb-496a-40f7-a308-3294be3381e6"
      },
      "execution_count": null,
      "outputs": [
        {
          "output_type": "execute_result",
          "data": {
            "text/plain": [
              "tensor([2, 7])"
            ]
          },
          "metadata": {},
          "execution_count": 28
        }
      ]
    },
    {
      "cell_type": "markdown",
      "source": [
        "Performing arithmetic operations on tensors"
      ],
      "metadata": {
        "id": "wvk9M4rpDcYS"
      }
    },
    {
      "cell_type": "code",
      "source": [
        "t1, t2"
      ],
      "metadata": {
        "colab": {
          "base_uri": "https://localhost:8080/"
        },
        "id": "WHQMsbCPGdY8",
        "outputId": "7037818a-7ae9-4cca-94f3-e16ff79a583a"
      },
      "execution_count": null,
      "outputs": [
        {
          "output_type": "execute_result",
          "data": {
            "text/plain": [
              "(tensor([  5, 100, 158,  10, 574,   8]),\n",
              " tensor([  5,   8, 158,  10, 574,   8]))"
            ]
          },
          "metadata": {},
          "execution_count": 29
        }
      ]
    },
    {
      "cell_type": "code",
      "source": [
        "# performing arithmetic operations on tensors\n",
        "t2+2, t2*2, t2-10, t2/2"
      ],
      "metadata": {
        "colab": {
          "base_uri": "https://localhost:8080/"
        },
        "id": "Iv6-Bh3JCsfj",
        "outputId": "c2170630-9433-4201-a07f-bd4d107c4153"
      },
      "execution_count": null,
      "outputs": [
        {
          "output_type": "execute_result",
          "data": {
            "text/plain": [
              "(tensor([  7,  10, 160,  12, 576,  10]),\n",
              " tensor([  10,   16,  316,   20, 1148,   16]),\n",
              " tensor([ -5,  -2, 148,   0, 564,  -2]),\n",
              " tensor([  2.5000,   4.0000,  79.0000,   5.0000, 287.0000,   4.0000]))"
            ]
          },
          "metadata": {},
          "execution_count": 30
        }
      ]
    },
    {
      "cell_type": "markdown",
      "source": [
        "Adding two Tensors"
      ],
      "metadata": {
        "id": "HaJAFloFDgiD"
      }
    },
    {
      "cell_type": "code",
      "source": [
        "#adding two tensors\n",
        "t1+t2"
      ],
      "metadata": {
        "colab": {
          "base_uri": "https://localhost:8080/"
        },
        "id": "As5P1GkOC4qS",
        "outputId": "5222ed4d-cc7c-42e1-ab67-606f1592d4e0"
      },
      "execution_count": null,
      "outputs": [
        {
          "output_type": "execute_result",
          "data": {
            "text/plain": [
              "tensor([  10,  108,  316,   20, 1148,   16])"
            ]
          },
          "metadata": {},
          "execution_count": 31
        }
      ]
    },
    {
      "cell_type": "markdown",
      "source": [
        "Performing Dot products on two tensors"
      ],
      "metadata": {
        "id": "diqS_Z5HIRNG"
      }
    },
    {
      "cell_type": "code",
      "source": [
        "t1.dot(t2)"
      ],
      "metadata": {
        "colab": {
          "base_uri": "https://localhost:8080/"
        },
        "id": "GoDASY-xH3_j",
        "outputId": "fa41bb8c-ea24-41f6-d866-1b510e6ca029"
      },
      "execution_count": null,
      "outputs": [
        {
          "output_type": "execute_result",
          "data": {
            "text/plain": [
              "tensor(355429)"
            ]
          },
          "metadata": {},
          "execution_count": 32
        }
      ]
    },
    {
      "cell_type": "markdown",
      "source": [
        "Performing Matrix Multiplication on two tensors"
      ],
      "metadata": {
        "id": "pEUNx9t8IaSe"
      }
    },
    {
      "cell_type": "code",
      "source": [
        "x = torch.arange(10).reshape(2,5)\n",
        "y = torch.arange(10).reshape(5,2)\n",
        "print(x)\n",
        "print(y)"
      ],
      "metadata": {
        "colab": {
          "base_uri": "https://localhost:8080/"
        },
        "id": "-fUdpknhIYq1",
        "outputId": "0fad58a5-c010-4770-8cf4-c1be28174354"
      },
      "execution_count": null,
      "outputs": [
        {
          "output_type": "stream",
          "name": "stdout",
          "text": [
            "tensor([[0, 1, 2, 3, 4],\n",
            "        [5, 6, 7, 8, 9]])\n",
            "tensor([[0, 1],\n",
            "        [2, 3],\n",
            "        [4, 5],\n",
            "        [6, 7],\n",
            "        [8, 9]])\n"
          ]
        }
      ]
    },
    {
      "cell_type": "code",
      "source": [
        "torch.mm(x,y)"
      ],
      "metadata": {
        "colab": {
          "base_uri": "https://localhost:8080/"
        },
        "id": "d4FgrpY2ImpD",
        "outputId": "e98fd536-6d5a-4cea-b6d7-d0cd1d8a2c94"
      },
      "execution_count": null,
      "outputs": [
        {
          "output_type": "execute_result",
          "data": {
            "text/plain": [
              "tensor([[ 60,  70],\n",
              "        [160, 195]])"
            ]
          },
          "metadata": {},
          "execution_count": 34
        }
      ]
    },
    {
      "cell_type": "markdown",
      "source": [
        "'@' can be used to perform Matrix Multiplication"
      ],
      "metadata": {
        "id": "RW9IKXRaJO5q"
      }
    },
    {
      "cell_type": "code",
      "source": [
        "x @ y"
      ],
      "metadata": {
        "colab": {
          "base_uri": "https://localhost:8080/"
        },
        "id": "4EceWHPMJBDW",
        "outputId": "81bdfdcb-7cb6-4ad1-d5d4-62827994cfa4"
      },
      "execution_count": null,
      "outputs": [
        {
          "output_type": "execute_result",
          "data": {
            "text/plain": [
              "tensor([[ 60,  70],\n",
              "        [160, 195]])"
            ]
          },
          "metadata": {},
          "execution_count": 35
        }
      ]
    },
    {
      "cell_type": "markdown",
      "source": [
        "## **Backpropagation**"
      ],
      "metadata": {
        "id": "S6mVzjo81_Vu"
      }
    },
    {
      "cell_type": "code",
      "source": [
        "a1 = torch.tensor(2., requires_grad=True) #float values should be given, if 'requires_grad' is True"
      ],
      "metadata": {
        "id": "A6qpwM2IJSjH"
      },
      "execution_count": null,
      "outputs": []
    },
    {
      "cell_type": "markdown",
      "source": [
        "Consider the sample equation"
      ],
      "metadata": {
        "id": "bIsr-sL_4CK0"
      }
    },
    {
      "cell_type": "markdown",
      "source": [
        "$g = 3a_1^4 + 2a_1^3 + 5a_1^2 + 10a_1 + 25$ "
      ],
      "metadata": {
        "id": "IoSV7jEt2RmU"
      }
    },
    {
      "cell_type": "code",
      "source": [
        "g = 3*a1**4 + 2*a1**3 + 5*a1**2 + 10*a1 + 25"
      ],
      "metadata": {
        "id": "oPHk45dz4AXQ"
      },
      "execution_count": null,
      "outputs": []
    },
    {
      "cell_type": "code",
      "source": [
        "print(g)"
      ],
      "metadata": {
        "colab": {
          "base_uri": "https://localhost:8080/"
        },
        "id": "nK7wuaG04W8S",
        "outputId": "88740a63-c8a0-4622-f04c-5d4fe82a772c"
      },
      "execution_count": null,
      "outputs": [
        {
          "output_type": "stream",
          "name": "stdout",
          "text": [
            "tensor(129., grad_fn=<AddBackward0>)\n"
          ]
        }
      ]
    },
    {
      "cell_type": "markdown",
      "source": [
        "Differentiating the function $g$"
      ],
      "metadata": {
        "id": "AchAy4l14iJi"
      }
    },
    {
      "cell_type": "code",
      "source": [
        "g.backward()"
      ],
      "metadata": {
        "id": "cAFoxe5A4Y7W"
      },
      "execution_count": null,
      "outputs": []
    },
    {
      "cell_type": "markdown",
      "source": [
        "Now, $g' = 12a_1^3 + 6a_1^2 + 10a_1 + 10$"
      ],
      "metadata": {
        "id": "M82zL94w5Dqf"
      }
    },
    {
      "cell_type": "markdown",
      "source": [
        "Getting the slope at $a_1 = 2$"
      ],
      "metadata": {
        "id": "euMP0oHW5uL0"
      }
    },
    {
      "cell_type": "code",
      "source": [
        "a1.grad"
      ],
      "metadata": {
        "colab": {
          "base_uri": "https://localhost:8080/"
        },
        "id": "ccpYjOIJ498G",
        "outputId": "ca33bd8a-1289-46cc-d65f-cbf12c7f796f"
      },
      "execution_count": null,
      "outputs": [
        {
          "output_type": "execute_result",
          "data": {
            "text/plain": [
              "tensor(150.)"
            ]
          },
          "metadata": {},
          "execution_count": 50
        }
      ]
    },
    {
      "cell_type": "markdown",
      "source": [
        "Performing backpropagation on matrices"
      ],
      "metadata": {
        "id": "cs3SWcmI7WIs"
      }
    },
    {
      "cell_type": "code",
      "source": [
        "m1 = torch.tensor([[2.,5.,8.],[10.,25.,11.]], requires_grad=True)"
      ],
      "metadata": {
        "id": "Li4kwMfa6Fia"
      },
      "execution_count": null,
      "outputs": []
    },
    {
      "cell_type": "code",
      "source": [
        "g2 = 3*m1 + 20"
      ],
      "metadata": {
        "id": "fyV_fEPe7lEQ"
      },
      "execution_count": null,
      "outputs": []
    },
    {
      "cell_type": "code",
      "source": [
        "print(g2)"
      ],
      "metadata": {
        "colab": {
          "base_uri": "https://localhost:8080/"
        },
        "id": "oozO3DJh8B4o",
        "outputId": "13575124-f82f-4b2b-8119-754352533ee6"
      },
      "execution_count": null,
      "outputs": [
        {
          "output_type": "stream",
          "name": "stdout",
          "text": [
            "tensor([[26., 35., 44.],\n",
            "        [50., 95., 53.]], grad_fn=<AddBackward0>)\n"
          ]
        }
      ]
    },
    {
      "cell_type": "code",
      "source": [
        "out = g2.mean()\n",
        "print(out)"
      ],
      "metadata": {
        "colab": {
          "base_uri": "https://localhost:8080/"
        },
        "id": "JbUkcbwx8DRU",
        "outputId": "9b3dd31a-124d-453c-94ee-17edca606dc3"
      },
      "execution_count": null,
      "outputs": [
        {
          "output_type": "stream",
          "name": "stdout",
          "text": [
            "tensor(50.5000, grad_fn=<MeanBackward0>)\n"
          ]
        }
      ]
    },
    {
      "cell_type": "code",
      "source": [
        "out.backward()"
      ],
      "metadata": {
        "id": "qNIIn4nZ8Hnx"
      },
      "execution_count": null,
      "outputs": []
    },
    {
      "cell_type": "code",
      "source": [
        "m1.grad"
      ],
      "metadata": {
        "colab": {
          "base_uri": "https://localhost:8080/"
        },
        "id": "wpMr0l5e8mgG",
        "outputId": "06248191-b449-45f6-8fd5-aea35c9306e3"
      },
      "execution_count": null,
      "outputs": [
        {
          "output_type": "execute_result",
          "data": {
            "text/plain": [
              "tensor([[0.5000, 0.5000, 0.5000],\n",
              "        [0.5000, 0.5000, 0.5000]])"
            ]
          },
          "metadata": {},
          "execution_count": 59
        }
      ]
    },
    {
      "cell_type": "code",
      "source": [],
      "metadata": {
        "id": "wLuTBWpC8sot"
      },
      "execution_count": null,
      "outputs": []
    }
  ]
}